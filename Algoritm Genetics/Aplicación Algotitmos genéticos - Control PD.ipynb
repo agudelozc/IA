{
 "cells": [
  {
   "cell_type": "markdown",
   "metadata": {},
   "source": [
    "<h3>Algoritmo Genético para sintonización de un controlador PD</h3>"
   ]
  },
  {
   "cell_type": "code",
   "execution_count": null,
   "metadata": {
    "scrolled": true
   },
   "outputs": [],
   "source": [
    "# Librerías requeridas\n",
    "from matplotlib import pyplot as plt\n",
    "import numpy as np"
   ]
  },
  {
   "cell_type": "code",
   "execution_count": null,
   "metadata": {},
   "outputs": [],
   "source": [
    "#\n",
    "# Aplicación de Algoritmos Genéticos para sintonización de un controlador.\n",
    "# Profesor Guía: Claudio Morales Díaz \n",
    "# Santiago, Chile, 2020.\n",
    "# "
   ]
  },
  {
   "cell_type": "code",
   "execution_count": null,
   "metadata": {},
   "outputs": [],
   "source": [
    "def respuesta(kp, kd, ad, a0, t):\n",
    "    a = np.zeros(t.size)\n",
    "    for i in range(t.size):\n",
    "        if i < 2:\n",
    "            a[i] = a0\n",
    "        else:\n",
    "            dt = t[i]-t[i-1]\n",
    "            a[i] = (kp*dt**2*ad+a[i-1]*(2+kd*dt)-a[i-2])/(1+kp*dt**2+kd*dt)\n",
    "    return a"
   ]
  },
  {
   "cell_type": "code",
   "execution_count": null,
   "metadata": {},
   "outputs": [],
   "source": [
    "# Ejemplo de uso de la función\n",
    "ad = 10    # altura de destino\n",
    "a0 = 0     # altura inicial\n",
    "kp = 500   # constante proporcional\n",
    "kd = 35    # constante diferencial\n",
    "t = np.linspace(0,1,1000)\n",
    "# respuesta\n",
    "a = respuesta(kp, kd, ad, a0, t)\n",
    "plt.plot(t,a)\n",
    "plt.show()"
   ]
  },
  {
   "cell_type": "code",
   "execution_count": null,
   "metadata": {},
   "outputs": [],
   "source": [
    "# Tres respuestas posibles\n",
    "a1 = respuesta(500, 25, ad, a0, t)\n",
    "a2 = respuesta(500, 40, ad, a0, t)\n",
    "a3 = respuesta(500, 55, ad, a0, t)\n",
    "plt.plot(t,a1)\n",
    "plt.plot(t,a2)\n",
    "plt.plot(t,a3)\n",
    "plt.show()"
   ]
  },
  {
   "cell_type": "code",
   "execution_count": null,
   "metadata": {},
   "outputs": [],
   "source": [
    "import random"
   ]
  },
  {
   "cell_type": "code",
   "execution_count": 1,
   "metadata": {},
   "outputs": [],
   "source": [
    "def individuo(min, max):\n",
    "    return[random.randint(min, max) for i in range(largo)]"
   ]
  },
  {
   "cell_type": "code",
   "execution_count": 2,
   "metadata": {},
   "outputs": [],
   "source": [
    "def crearPoblacion(num):\n",
    "    return [individuo(1,1000) for i in range(num)]"
   ]
  },
  {
   "cell_type": "code",
   "execution_count": 1,
   "metadata": {},
   "outputs": [],
   "source": [
    "def calcularFitness(individuo):\n",
    "    fitness = 0\n",
    "    for i in range(len(individuo)):\n",
    "        # calcular fitness aquí!\n",
    "        kp = individuo[0]\n",
    "        kd = individuo[1]\n",
    "        ad = objetivo[0]\n",
    "        ai = 0\n",
    "        t = np.linspace(0,1,100)\n",
    "        a = respuesta(kp, kd, ad, ai, t)\n",
    "        fitness = -abs(max(a)-ad)\n",
    "    return fitness"
   ]
  },
  {
   "cell_type": "code",
   "execution_count": 4,
   "metadata": {},
   "outputs": [],
   "source": [
    "def seleccion_y_reproduccion(poblacion, alcance):\n",
    "    puntuados = [ (calcularFitness(i), i) for i in poblacion] #Calcula el fitness de cada individuo, y lo guarda en pares ordenados de la forma (5 , [1,2,1,1,4,1,8,9,4,1])\n",
    "    puntuados = [i[1] for i in sorted(puntuados)] #Ordena los pares ordenados y se queda solo con el array de valores\n",
    "    poblacion = puntuados\n",
    "  \n",
    "    seleccionados =  puntuados[(len(puntuados) - alcance):] #Esta linea selecciona los 'n' individuos del final, donde n viene dado por 'pressure'\n",
    "  \n",
    "    #Se mezcla el material genetico para crear nuevos individuos\n",
    "    for i in range(len(poblacion)-alcance):\n",
    "        punto = random.randint(1,largo-1) #Se elige un punto para hacer el intercambio\n",
    "        padre = random.sample(seleccionados, 2) #Se eligen dos padres\n",
    "          \n",
    "        poblacion[i][:punto] = padre[0][:punto] #Se mezcla el material genetico de los padres en cada nuevo individuo\n",
    "        poblacion[i][punto:] = padre[1][punto:]\n",
    "  \n",
    "    return poblacion # se retorna la nueva poblacion de individuos"
   ]
  },
  {
   "cell_type": "code",
   "execution_count": 5,
   "metadata": {},
   "outputs": [],
   "source": [
    "def mutar(poblacion, probabilidad_de_mutacion, alcance):\n",
    "    for i in range(len(poblacion) - alcance):\n",
    "        if random.random() <= probabilidad_de_mutacion: #Cada individuo de la poblacion (menos los padres) tienen una probabilidad de mutar\n",
    "            punto = random.randint(0,largo-1) #Se elgie un punto al azar\n",
    "            nuevo_valor = random.randint(1,1000) #y un nuevo valor para este punto\n",
    "  \n",
    "            #Es importante mirar que el nuevo valor no sea igual al viejo\n",
    "            while nuevo_valor == poblacion[i][punto]:\n",
    "                nuevo_valor = random.randint(1,1000)\n",
    "  \n",
    "            #Se aplica la mutacion\n",
    "            poblacion[i][punto] = nuevo_valor\n",
    "  \n",
    "    return poblacion"
   ]
  },
  {
   "cell_type": "code",
   "execution_count": 6,
   "metadata": {},
   "outputs": [
    {
     "ename": "NameError",
     "evalue": "name 'random' is not defined",
     "output_type": "error",
     "traceback": [
      "\u001b[1;31m---------------------------------------------------------------------------\u001b[0m",
      "\u001b[1;31mNameError\u001b[0m                                 Traceback (most recent call last)",
      "\u001b[1;32m<ipython-input-6-4069e2e50e12>\u001b[0m in \u001b[0;36m<module>\u001b[1;34m\u001b[0m\n\u001b[0;32m      5\u001b[0m \u001b[0mprobabilidad_de_mutacion\u001b[0m \u001b[1;33m=\u001b[0m \u001b[1;36m0.3\u001b[0m   \u001b[1;31m#La probabilidad de que un individuo mute\u001b[0m\u001b[1;33m\u001b[0m\u001b[1;33m\u001b[0m\u001b[0m\n\u001b[0;32m      6\u001b[0m \u001b[1;33m\u001b[0m\u001b[0m\n\u001b[1;32m----> 7\u001b[1;33m \u001b[0mpoblacion\u001b[0m \u001b[1;33m=\u001b[0m \u001b[0mcrearPoblacion\u001b[0m\u001b[1;33m(\u001b[0m\u001b[0mnum\u001b[0m\u001b[1;33m)\u001b[0m  \u001b[1;31m#Inicializar una poblacion\u001b[0m\u001b[1;33m\u001b[0m\u001b[1;33m\u001b[0m\u001b[0m\n\u001b[0m\u001b[0;32m      8\u001b[0m \u001b[0mprint\u001b[0m\u001b[1;33m(\u001b[0m\u001b[1;34m\"Poblacion Inicial:\\n%s\"\u001b[0m\u001b[1;33m%\u001b[0m\u001b[1;33m(\u001b[0m\u001b[0mpoblacion\u001b[0m\u001b[1;33m)\u001b[0m\u001b[1;33m)\u001b[0m \u001b[1;31m#Se muestra la poblacion inicial\u001b[0m\u001b[1;33m\u001b[0m\u001b[1;33m\u001b[0m\u001b[0m\n\u001b[0;32m      9\u001b[0m \u001b[1;33m\u001b[0m\u001b[0m\n",
      "\u001b[1;32m<ipython-input-2-a5a38d0a3eef>\u001b[0m in \u001b[0;36mcrearPoblacion\u001b[1;34m(num)\u001b[0m\n\u001b[0;32m      1\u001b[0m \u001b[1;32mdef\u001b[0m \u001b[0mcrearPoblacion\u001b[0m\u001b[1;33m(\u001b[0m\u001b[0mnum\u001b[0m\u001b[1;33m)\u001b[0m\u001b[1;33m:\u001b[0m\u001b[1;33m\u001b[0m\u001b[1;33m\u001b[0m\u001b[0m\n\u001b[1;32m----> 2\u001b[1;33m     \u001b[1;32mreturn\u001b[0m \u001b[1;33m[\u001b[0m\u001b[0mindividuo\u001b[0m\u001b[1;33m(\u001b[0m\u001b[1;36m1\u001b[0m\u001b[1;33m,\u001b[0m\u001b[1;36m1000\u001b[0m\u001b[1;33m)\u001b[0m \u001b[1;32mfor\u001b[0m \u001b[0mi\u001b[0m \u001b[1;32min\u001b[0m \u001b[0mrange\u001b[0m\u001b[1;33m(\u001b[0m\u001b[0mnum\u001b[0m\u001b[1;33m)\u001b[0m\u001b[1;33m]\u001b[0m\u001b[1;33m\u001b[0m\u001b[1;33m\u001b[0m\u001b[0m\n\u001b[0m",
      "\u001b[1;32m<ipython-input-2-a5a38d0a3eef>\u001b[0m in \u001b[0;36m<listcomp>\u001b[1;34m(.0)\u001b[0m\n\u001b[0;32m      1\u001b[0m \u001b[1;32mdef\u001b[0m \u001b[0mcrearPoblacion\u001b[0m\u001b[1;33m(\u001b[0m\u001b[0mnum\u001b[0m\u001b[1;33m)\u001b[0m\u001b[1;33m:\u001b[0m\u001b[1;33m\u001b[0m\u001b[1;33m\u001b[0m\u001b[0m\n\u001b[1;32m----> 2\u001b[1;33m     \u001b[1;32mreturn\u001b[0m \u001b[1;33m[\u001b[0m\u001b[0mindividuo\u001b[0m\u001b[1;33m(\u001b[0m\u001b[1;36m1\u001b[0m\u001b[1;33m,\u001b[0m\u001b[1;36m1000\u001b[0m\u001b[1;33m)\u001b[0m \u001b[1;32mfor\u001b[0m \u001b[0mi\u001b[0m \u001b[1;32min\u001b[0m \u001b[0mrange\u001b[0m\u001b[1;33m(\u001b[0m\u001b[0mnum\u001b[0m\u001b[1;33m)\u001b[0m\u001b[1;33m]\u001b[0m\u001b[1;33m\u001b[0m\u001b[1;33m\u001b[0m\u001b[0m\n\u001b[0m",
      "\u001b[1;32m<ipython-input-1-254dc4368c76>\u001b[0m in \u001b[0;36mindividuo\u001b[1;34m(min, max)\u001b[0m\n\u001b[0;32m      1\u001b[0m \u001b[1;32mdef\u001b[0m \u001b[0mindividuo\u001b[0m\u001b[1;33m(\u001b[0m\u001b[0mmin\u001b[0m\u001b[1;33m,\u001b[0m \u001b[0mmax\u001b[0m\u001b[1;33m)\u001b[0m\u001b[1;33m:\u001b[0m\u001b[1;33m\u001b[0m\u001b[1;33m\u001b[0m\u001b[0m\n\u001b[1;32m----> 2\u001b[1;33m     \u001b[1;32mreturn\u001b[0m\u001b[1;33m[\u001b[0m\u001b[0mrandom\u001b[0m\u001b[1;33m.\u001b[0m\u001b[0mrandint\u001b[0m\u001b[1;33m(\u001b[0m\u001b[0mmin\u001b[0m\u001b[1;33m,\u001b[0m \u001b[0mmax\u001b[0m\u001b[1;33m)\u001b[0m \u001b[1;32mfor\u001b[0m \u001b[0mi\u001b[0m \u001b[1;32min\u001b[0m \u001b[0mrange\u001b[0m\u001b[1;33m(\u001b[0m\u001b[0mlargo\u001b[0m\u001b[1;33m)\u001b[0m\u001b[1;33m]\u001b[0m\u001b[1;33m\u001b[0m\u001b[1;33m\u001b[0m\u001b[0m\n\u001b[0m",
      "\u001b[1;32m<ipython-input-1-254dc4368c76>\u001b[0m in \u001b[0;36m<listcomp>\u001b[1;34m(.0)\u001b[0m\n\u001b[0;32m      1\u001b[0m \u001b[1;32mdef\u001b[0m \u001b[0mindividuo\u001b[0m\u001b[1;33m(\u001b[0m\u001b[0mmin\u001b[0m\u001b[1;33m,\u001b[0m \u001b[0mmax\u001b[0m\u001b[1;33m)\u001b[0m\u001b[1;33m:\u001b[0m\u001b[1;33m\u001b[0m\u001b[1;33m\u001b[0m\u001b[0m\n\u001b[1;32m----> 2\u001b[1;33m     \u001b[1;32mreturn\u001b[0m\u001b[1;33m[\u001b[0m\u001b[0mrandom\u001b[0m\u001b[1;33m.\u001b[0m\u001b[0mrandint\u001b[0m\u001b[1;33m(\u001b[0m\u001b[0mmin\u001b[0m\u001b[1;33m,\u001b[0m \u001b[0mmax\u001b[0m\u001b[1;33m)\u001b[0m \u001b[1;32mfor\u001b[0m \u001b[0mi\u001b[0m \u001b[1;32min\u001b[0m \u001b[0mrange\u001b[0m\u001b[1;33m(\u001b[0m\u001b[0mlargo\u001b[0m\u001b[1;33m)\u001b[0m\u001b[1;33m]\u001b[0m\u001b[1;33m\u001b[0m\u001b[1;33m\u001b[0m\u001b[0m\n\u001b[0m",
      "\u001b[1;31mNameError\u001b[0m: name 'random' is not defined"
     ]
    }
   ],
   "source": [
    "objetivo = [20] #Objetivo a alcanzar [valor final]\n",
    "largo = 2       #La longitud del material genetico de cada individuo\n",
    "num = 20        #La cantidad de individuos que habra en la poblacion\n",
    "alcance = 2     #Cuantos individuos se seleccionan para reproduccion. Necesariamente mayor que 2\n",
    "probabilidad_de_mutacion = 0.3   #La probabilidad de que un individuo mute\n",
    "\n",
    "poblacion = crearPoblacion(num)  #Inicializar una poblacion\n",
    "print(\"Poblacion Inicial:\\n%s\"%(poblacion)) #Se muestra la poblacion inicial\n",
    "\n",
    "#Se evoluciona la poblacion 1\n",
    "for i in range(100):\n",
    "    poblacion = seleccion_y_reproduccion(poblacion, alcance)\n",
    "    poblacion = mutar(poblacion, probabilidad_de_mutacion, alcance)\n",
    "\n",
    "print(\"Poblacion Final:\\n%s\"%(poblacion)) #Se muestra la poblacion final"
   ]
  },
  {
   "cell_type": "code",
   "execution_count": null,
   "metadata": {},
   "outputs": [],
   "source": [
    "# verificamos la respuesta del controlador obtenido\n",
    "ad = objetivo[0]\n",
    "a0 = 0\n",
    "seleccionado = poblacion[-1]\n",
    "kp = seleccionado[0]\n",
    "kd = seleccionado[1]\n",
    "t = np.linspace(0,1,1000)\n",
    "a = respuesta(kp, kd, ad, a0, t)\n",
    "plt.plot(t,a)\n",
    "plt.show()"
   ]
  },
  {
   "cell_type": "code",
   "execution_count": null,
   "metadata": {},
   "outputs": [],
   "source": []
  },
  {
   "cell_type": "code",
   "execution_count": null,
   "metadata": {},
   "outputs": [],
   "source": []
  },
  {
   "cell_type": "code",
   "execution_count": null,
   "metadata": {},
   "outputs": [],
   "source": []
  }
 ],
 "metadata": {
  "kernelspec": {
   "display_name": "Python 3",
   "language": "python",
   "name": "python3"
  },
  "language_info": {
   "codemirror_mode": {
    "name": "ipython",
    "version": 3
   },
   "file_extension": ".py",
   "mimetype": "text/x-python",
   "name": "python",
   "nbconvert_exporter": "python",
   "pygments_lexer": "ipython3",
   "version": "3.8.8"
  }
 },
 "nbformat": 4,
 "nbformat_minor": 2
}
